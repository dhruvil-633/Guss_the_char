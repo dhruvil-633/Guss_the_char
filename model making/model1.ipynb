{
 "cells": [
  {
   "cell_type": "code",
   "execution_count": 1,
   "id": "47cc3a0a",
   "metadata": {},
   "outputs": [
    {
     "name": "stdout",
     "output_type": "stream",
     "text": [
      "hello world\n"
     ]
    }
   ],
   "source": [
    "print(\"hello world\")"
   ]
  },
  {
   "cell_type": "code",
   "execution_count": 2,
   "id": "ca9b0227",
   "metadata": {},
   "outputs": [],
   "source": [
    "import pandas as pd\n",
    "import numpy as np\n",
    "from sklearn.model_selection import train_test_split\n",
    "from sklearn.ensemble import RandomForestClassifier\n",
    "from sklearn.metrics import accuracy_score\n",
    "import joblib\n",
    "import os"
   ]
  },
  {
   "cell_type": "code",
   "execution_count": 7,
   "id": "28674f49",
   "metadata": {},
   "outputs": [],
   "source": [
    "df_raw = pd.read_csv('marvel_dc_characters.csv')"
   ]
  },
  {
   "cell_type": "code",
   "execution_count": 8,
   "id": "d8dfab1f",
   "metadata": {},
   "outputs": [
    {
     "name": "stdout",
     "output_type": "stream",
     "text": [
      "<class 'pandas.core.frame.DataFrame'>\n",
      "RangeIndex: 64 entries, 0 to 63\n",
      "Data columns (total 22 columns):\n",
      " #   Column          Non-Null Count  Dtype \n",
      "---  ------          --------------  ----- \n",
      " 0   name            64 non-null     object\n",
      " 1   male            64 non-null     int64 \n",
      " 2   superhero       64 non-null     int64 \n",
      " 3   uses_magic      64 non-null     int64 \n",
      " 4   wears_mask      64 non-null     int64 \n",
      " 5   super_strength  64 non-null     int64 \n",
      " 6   uses_gadgets    64 non-null     int64 \n",
      " 7   flies           64 non-null     int64 \n",
      " 8   detective       64 non-null     int64 \n",
      " 9   comedian        64 non-null     int64 \n",
      " 10  billionaire     64 non-null     int64 \n",
      " 11  from_earth      64 non-null     int64 \n",
      " 12  alien_origin    64 non-null     int64 \n",
      " 13  team_member     64 non-null     int64 \n",
      " 14  wears_armor     64 non-null     int64 \n",
      " 15  uses_weapon     64 non-null     int64 \n",
      " 16  sidekick        64 non-null     int64 \n",
      " 17  immortal        64 non-null     int64 \n",
      " 18  leader          64 non-null     int64 \n",
      " 19  scientist       64 non-null     int64 \n",
      " 20  mutant          64 non-null     int64 \n",
      " 21  genre           64 non-null     object\n",
      "dtypes: int64(20), object(2)\n",
      "memory usage: 11.1+ KB\n"
     ]
    }
   ],
   "source": [
    "df_raw.info()"
   ]
  },
  {
   "cell_type": "code",
   "execution_count": 9,
   "id": "5ea06123",
   "metadata": {},
   "outputs": [
    {
     "data": {
      "text/plain": [
       "name              0\n",
       "male              0\n",
       "superhero         0\n",
       "uses_magic        0\n",
       "wears_mask        0\n",
       "super_strength    0\n",
       "uses_gadgets      0\n",
       "flies             0\n",
       "detective         0\n",
       "comedian          0\n",
       "billionaire       0\n",
       "from_earth        0\n",
       "alien_origin      0\n",
       "team_member       0\n",
       "wears_armor       0\n",
       "uses_weapon       0\n",
       "sidekick          0\n",
       "immortal          0\n",
       "leader            0\n",
       "scientist         0\n",
       "mutant            0\n",
       "genre             0\n",
       "dtype: int64"
      ]
     },
     "execution_count": 9,
     "metadata": {},
     "output_type": "execute_result"
    }
   ],
   "source": [
    "df_raw.isnull().sum()"
   ]
  },
  {
   "cell_type": "code",
   "execution_count": 10,
   "id": "2b45c328",
   "metadata": {},
   "outputs": [],
   "source": [
    "df = df_raw.rename(columns={\n",
    "    \"name\": \"character\",\n",
    "    \"male\": \"is_male\",\n",
    "    \"superhero\": \"is_superhero\",\n",
    "    \"detective\": \"is_detective\",\n",
    "    \"comedian\": \"is_comedian\",\n",
    "    \"billionaire\": \"is_billionaire\",\n",
    "    \"from_earth\": \"is_from_earth\",\n",
    "    \"team_member\": \"is_team_member\",\n",
    "    \"sidekick\": \"has_sidekick\"\n",
    "})"
   ]
  },
  {
   "cell_type": "code",
   "execution_count": 11,
   "id": "d705c05f",
   "metadata": {},
   "outputs": [
    {
     "name": "stdout",
     "output_type": "stream",
     "text": [
      "<class 'pandas.core.frame.DataFrame'>\n",
      "RangeIndex: 64 entries, 0 to 63\n",
      "Data columns (total 22 columns):\n",
      " #   Column          Non-Null Count  Dtype \n",
      "---  ------          --------------  ----- \n",
      " 0   character       64 non-null     object\n",
      " 1   is_male         64 non-null     int64 \n",
      " 2   is_superhero    64 non-null     int64 \n",
      " 3   uses_magic      64 non-null     int64 \n",
      " 4   wears_mask      64 non-null     int64 \n",
      " 5   super_strength  64 non-null     int64 \n",
      " 6   uses_gadgets    64 non-null     int64 \n",
      " 7   flies           64 non-null     int64 \n",
      " 8   is_detective    64 non-null     int64 \n",
      " 9   is_comedian     64 non-null     int64 \n",
      " 10  is_billionaire  64 non-null     int64 \n",
      " 11  is_from_earth   64 non-null     int64 \n",
      " 12  alien_origin    64 non-null     int64 \n",
      " 13  is_team_member  64 non-null     int64 \n",
      " 14  wears_armor     64 non-null     int64 \n",
      " 15  uses_weapon     64 non-null     int64 \n",
      " 16  has_sidekick    64 non-null     int64 \n",
      " 17  immortal        64 non-null     int64 \n",
      " 18  leader          64 non-null     int64 \n",
      " 19  scientist       64 non-null     int64 \n",
      " 20  mutant          64 non-null     int64 \n",
      " 21  genre           64 non-null     object\n",
      "dtypes: int64(20), object(2)\n",
      "memory usage: 11.1+ KB\n"
     ]
    }
   ],
   "source": [
    "df.info()"
   ]
  },
  {
   "cell_type": "code",
   "execution_count": 12,
   "id": "3a7de288",
   "metadata": {},
   "outputs": [],
   "source": [
    "# ------------------- 3. One-hot encode 'genre' -------------------\n",
    "genre_dummies = pd.get_dummies(df['genre'], prefix='genre')\n",
    "df = pd.concat([df.drop('genre', axis=1), genre_dummies], axis=1)"
   ]
  },
  {
   "cell_type": "code",
   "execution_count": 13,
   "id": "b4d93b9e",
   "metadata": {},
   "outputs": [
    {
     "name": "stdout",
     "output_type": "stream",
     "text": [
      "<class 'pandas.core.frame.DataFrame'>\n",
      "RangeIndex: 64 entries, 0 to 63\n",
      "Data columns (total 23 columns):\n",
      " #   Column          Non-Null Count  Dtype \n",
      "---  ------          --------------  ----- \n",
      " 0   character       64 non-null     object\n",
      " 1   is_male         64 non-null     int64 \n",
      " 2   is_superhero    64 non-null     int64 \n",
      " 3   uses_magic      64 non-null     int64 \n",
      " 4   wears_mask      64 non-null     int64 \n",
      " 5   super_strength  64 non-null     int64 \n",
      " 6   uses_gadgets    64 non-null     int64 \n",
      " 7   flies           64 non-null     int64 \n",
      " 8   is_detective    64 non-null     int64 \n",
      " 9   is_comedian     64 non-null     int64 \n",
      " 10  is_billionaire  64 non-null     int64 \n",
      " 11  is_from_earth   64 non-null     int64 \n",
      " 12  alien_origin    64 non-null     int64 \n",
      " 13  is_team_member  64 non-null     int64 \n",
      " 14  wears_armor     64 non-null     int64 \n",
      " 15  uses_weapon     64 non-null     int64 \n",
      " 16  has_sidekick    64 non-null     int64 \n",
      " 17  immortal        64 non-null     int64 \n",
      " 18  leader          64 non-null     int64 \n",
      " 19  scientist       64 non-null     int64 \n",
      " 20  mutant          64 non-null     int64 \n",
      " 21  genre_DC        64 non-null     bool  \n",
      " 22  genre_Marvel    64 non-null     bool  \n",
      "dtypes: bool(2), int64(20), object(1)\n",
      "memory usage: 10.8+ KB\n"
     ]
    }
   ],
   "source": [
    "df.info()"
   ]
  },
  {
   "cell_type": "code",
   "execution_count": 14,
   "id": "1fb9e0c1",
   "metadata": {},
   "outputs": [],
   "source": [
    "# ------------------- 4. Full column list (after one-hot) -------------------\n",
    "binary_cols = [c for c in df.columns if c not in ['character'] + list(genre_dummies.columns)]\n",
    "genre_cols = list(genre_dummies.columns)  # e.g. ['genre_DC', 'genre_Marvel']"
   ]
  },
  {
   "cell_type": "code",
   "execution_count": 15,
   "id": "bbd0b4b5",
   "metadata": {},
   "outputs": [],
   "source": [
    "# ------------------- 5. Information Gain (on binary features only) -------------------\n",
    "def entropy(p):\n",
    "    if p <= 0 or p >= 1: return 0.0\n",
    "    return -p * np.log2(p) - (1-p) * np.log2(1-p)\n",
    "\n",
    "def info_gain(col):\n",
    "    p1 = col.mean()\n",
    "    if p1 == 0 or p1 == 1: return 0\n",
    "    H_parent = entropy(p1)\n",
    "    H0 = entropy((col==0).mean()) * (col==0).mean()\n",
    "    H1 = entropy((col==1).mean()) * p1\n",
    "    return H_parent - (H0 + H1)\n",
    "\n",
    "gains = df[binary_cols].apply(info_gain)\n",
    "top_binary = gains.sort_values(ascending=False).index.tolist()"
   ]
  },
  {
   "cell_type": "code",
   "execution_count": null,
   "id": "365fb68b",
   "metadata": {},
   "outputs": [
    {
     "name": "stdout",
     "output_type": "stream",
     "text": [
      "\n",
      "TOP 7 QUESTIONS:\n",
      "  1. uses_magic\n",
      "  2. flies\n",
      "  3. leader\n",
      "  4. is_male\n",
      "  5. wears_mask\n",
      "  6. is_superhero\n",
      "  7. uses_gadgets\n",
      "\n",
      "TOP 14 QUESTIONS (last 2 are genre):\n",
      "  1. uses_magic\n",
      "  2. flies\n",
      "  3. leader\n",
      "  4. is_male\n",
      "  5. wears_mask\n",
      "  6. is_superhero\n",
      "  7. uses_gadgets\n",
      "  8. super_strength\n",
      "  9. is_comedian\n",
      "  10. is_billionaire\n",
      "  11. is_from_earth\n",
      "  12. is_detective\n",
      "  13. genre_DC\n",
      "  14. genre_Marvel\n"
     ]
    }
   ],
   "source": [
    "# Round 1: Top 7 binary\n",
    "TOP_7 = top_binary[:7]\n",
    "\n",
    "# Round 2: Top 12 binary + 2 genre → 14 total\n",
    "TOP_12_BINARY = top_binary[:12]\n",
    "TOP_14 = TOP_12_BINARY + genre_cols[:2]  # Last 2 = genre\n",
    "\n",
    "print(\"\\nTOP 7 QUESTIONS:\")\n",
    "for i, q in enumerate(TOP_7, 1): print(f\"  {i}. {q}\")\n",
    "\n",
    "print(\"\\nTOP 14 QUESTIONS (last 2 are genre):\")\n",
    "for i, q in enumerate(TOP_14, 1): print(f\"  {i}. {q}\")\n",
    "\n"
   ]
  },
  {
   "cell_type": "code",
   "execution_count": 19,
   "id": "829e1f3a",
   "metadata": {},
   "outputs": [
    {
     "ename": "ValueError",
     "evalue": "The least populated class in y has only 1 member, which is too few. The minimum number of groups for any class cannot be less than 2.",
     "output_type": "error",
     "traceback": [
      "\u001b[31m---------------------------------------------------------------------------\u001b[39m",
      "\u001b[31mValueError\u001b[39m                                Traceback (most recent call last)",
      "\u001b[36mCell\u001b[39m\u001b[36m \u001b[39m\u001b[32mIn[19]\u001b[39m\u001b[32m, line 6\u001b[39m\n\u001b[32m      4\u001b[39m y = df[\u001b[33m'\u001b[39m\u001b[33mcharacter\u001b[39m\u001b[33m'\u001b[39m].values  \u001b[38;5;66;03m# Actual names\u001b[39;00m\n\u001b[32m      5\u001b[39m \u001b[38;5;66;03m# ------------------- 7. Train-test split -------------------\u001b[39;00m\n\u001b[32m----> \u001b[39m\u001b[32m6\u001b[39m X7_train, X7_val, y7_train, y7_val = \u001b[43mtrain_test_split\u001b[49m\u001b[43m(\u001b[49m\n\u001b[32m      7\u001b[39m \u001b[43mX7\u001b[49m\u001b[43m,\u001b[49m\u001b[43m \u001b[49m\u001b[43my\u001b[49m\u001b[43m,\u001b[49m\u001b[43m \u001b[49m\u001b[43mtest_size\u001b[49m\u001b[43m=\u001b[49m\u001b[32;43m0.2\u001b[39;49m\u001b[43m,\u001b[49m\u001b[43m \u001b[49m\u001b[43mrandom_state\u001b[49m\u001b[43m=\u001b[49m\u001b[32;43m42\u001b[39;49m\u001b[43m,\u001b[49m\u001b[43m \u001b[49m\u001b[43mstratify\u001b[49m\u001b[43m=\u001b[49m\u001b[43my\u001b[49m\u001b[43m)\u001b[49m\n\u001b[32m      8\u001b[39m X14_train, X14_val, y14_train, y14_val = train_test_split(\n\u001b[32m      9\u001b[39m     X14, y, test_size=\u001b[32m0.2\u001b[39m, random_state=\u001b[32m42\u001b[39m, stratify=y)\n",
      "\u001b[36mFile \u001b[39m\u001b[32md:\\College\\Sem 5\\ML project\\myenv\\Lib\\site-packages\\sklearn\\utils\\_param_validation.py:218\u001b[39m, in \u001b[36mvalidate_params.<locals>.decorator.<locals>.wrapper\u001b[39m\u001b[34m(*args, **kwargs)\u001b[39m\n\u001b[32m    212\u001b[39m \u001b[38;5;28;01mtry\u001b[39;00m:\n\u001b[32m    213\u001b[39m     \u001b[38;5;28;01mwith\u001b[39;00m config_context(\n\u001b[32m    214\u001b[39m         skip_parameter_validation=(\n\u001b[32m    215\u001b[39m             prefer_skip_nested_validation \u001b[38;5;129;01mor\u001b[39;00m global_skip_validation\n\u001b[32m    216\u001b[39m         )\n\u001b[32m    217\u001b[39m     ):\n\u001b[32m--> \u001b[39m\u001b[32m218\u001b[39m         \u001b[38;5;28;01mreturn\u001b[39;00m \u001b[43mfunc\u001b[49m\u001b[43m(\u001b[49m\u001b[43m*\u001b[49m\u001b[43margs\u001b[49m\u001b[43m,\u001b[49m\u001b[43m \u001b[49m\u001b[43m*\u001b[49m\u001b[43m*\u001b[49m\u001b[43mkwargs\u001b[49m\u001b[43m)\u001b[49m\n\u001b[32m    219\u001b[39m \u001b[38;5;28;01mexcept\u001b[39;00m InvalidParameterError \u001b[38;5;28;01mas\u001b[39;00m e:\n\u001b[32m    220\u001b[39m     \u001b[38;5;66;03m# When the function is just a wrapper around an estimator, we allow\u001b[39;00m\n\u001b[32m    221\u001b[39m     \u001b[38;5;66;03m# the function to delegate validation to the estimator, but we replace\u001b[39;00m\n\u001b[32m    222\u001b[39m     \u001b[38;5;66;03m# the name of the estimator by the name of the function in the error\u001b[39;00m\n\u001b[32m    223\u001b[39m     \u001b[38;5;66;03m# message to avoid confusion.\u001b[39;00m\n\u001b[32m    224\u001b[39m     msg = re.sub(\n\u001b[32m    225\u001b[39m         \u001b[33mr\u001b[39m\u001b[33m\"\u001b[39m\u001b[33mparameter of \u001b[39m\u001b[33m\\\u001b[39m\u001b[33mw+ must be\u001b[39m\u001b[33m\"\u001b[39m,\n\u001b[32m    226\u001b[39m         \u001b[33mf\u001b[39m\u001b[33m\"\u001b[39m\u001b[33mparameter of \u001b[39m\u001b[38;5;132;01m{\u001b[39;00mfunc.\u001b[34m__qualname__\u001b[39m\u001b[38;5;132;01m}\u001b[39;00m\u001b[33m must be\u001b[39m\u001b[33m\"\u001b[39m,\n\u001b[32m    227\u001b[39m         \u001b[38;5;28mstr\u001b[39m(e),\n\u001b[32m    228\u001b[39m     )\n",
      "\u001b[36mFile \u001b[39m\u001b[32md:\\College\\Sem 5\\ML project\\myenv\\Lib\\site-packages\\sklearn\\model_selection\\_split.py:2940\u001b[39m, in \u001b[36mtrain_test_split\u001b[39m\u001b[34m(test_size, train_size, random_state, shuffle, stratify, *arrays)\u001b[39m\n\u001b[32m   2936\u001b[39m         CVClass = ShuffleSplit\n\u001b[32m   2938\u001b[39m     cv = CVClass(test_size=n_test, train_size=n_train, random_state=random_state)\n\u001b[32m-> \u001b[39m\u001b[32m2940\u001b[39m     train, test = \u001b[38;5;28;43mnext\u001b[39;49m\u001b[43m(\u001b[49m\u001b[43mcv\u001b[49m\u001b[43m.\u001b[49m\u001b[43msplit\u001b[49m\u001b[43m(\u001b[49m\u001b[43mX\u001b[49m\u001b[43m=\u001b[49m\u001b[43marrays\u001b[49m\u001b[43m[\u001b[49m\u001b[32;43m0\u001b[39;49m\u001b[43m]\u001b[49m\u001b[43m,\u001b[49m\u001b[43m \u001b[49m\u001b[43my\u001b[49m\u001b[43m=\u001b[49m\u001b[43mstratify\u001b[49m\u001b[43m)\u001b[49m\u001b[43m)\u001b[49m\n\u001b[32m   2942\u001b[39m train, test = ensure_common_namespace_device(arrays[\u001b[32m0\u001b[39m], train, test)\n\u001b[32m   2944\u001b[39m \u001b[38;5;28;01mreturn\u001b[39;00m \u001b[38;5;28mlist\u001b[39m(\n\u001b[32m   2945\u001b[39m     chain.from_iterable(\n\u001b[32m   2946\u001b[39m         (_safe_indexing(a, train), _safe_indexing(a, test)) \u001b[38;5;28;01mfor\u001b[39;00m a \u001b[38;5;129;01min\u001b[39;00m arrays\n\u001b[32m   2947\u001b[39m     )\n\u001b[32m   2948\u001b[39m )\n",
      "\u001b[36mFile \u001b[39m\u001b[32md:\\College\\Sem 5\\ML project\\myenv\\Lib\\site-packages\\sklearn\\model_selection\\_split.py:1927\u001b[39m, in \u001b[36mBaseShuffleSplit.split\u001b[39m\u001b[34m(self, X, y, groups)\u001b[39m\n\u001b[32m   1897\u001b[39m \u001b[38;5;250m\u001b[39m\u001b[33;03m\"\"\"Generate indices to split data into training and test set.\u001b[39;00m\n\u001b[32m   1898\u001b[39m \n\u001b[32m   1899\u001b[39m \u001b[33;03mParameters\u001b[39;00m\n\u001b[32m   (...)\u001b[39m\u001b[32m   1924\u001b[39m \u001b[33;03mto an integer.\u001b[39;00m\n\u001b[32m   1925\u001b[39m \u001b[33;03m\"\"\"\u001b[39;00m\n\u001b[32m   1926\u001b[39m X, y, groups = indexable(X, y, groups)\n\u001b[32m-> \u001b[39m\u001b[32m1927\u001b[39m \u001b[43m\u001b[49m\u001b[38;5;28;43;01mfor\u001b[39;49;00m\u001b[43m \u001b[49m\u001b[43mtrain\u001b[49m\u001b[43m,\u001b[49m\u001b[43m \u001b[49m\u001b[43mtest\u001b[49m\u001b[43m \u001b[49m\u001b[38;5;129;43;01min\u001b[39;49;00m\u001b[43m \u001b[49m\u001b[38;5;28;43mself\u001b[39;49m\u001b[43m.\u001b[49m\u001b[43m_iter_indices\u001b[49m\u001b[43m(\u001b[49m\u001b[43mX\u001b[49m\u001b[43m,\u001b[49m\u001b[43m \u001b[49m\u001b[43my\u001b[49m\u001b[43m,\u001b[49m\u001b[43m \u001b[49m\u001b[43mgroups\u001b[49m\u001b[43m)\u001b[49m\u001b[43m:\u001b[49m\n\u001b[32m   1928\u001b[39m \u001b[43m    \u001b[49m\u001b[38;5;28;43;01myield\u001b[39;49;00m\u001b[43m \u001b[49m\u001b[43mtrain\u001b[49m\u001b[43m,\u001b[49m\u001b[43m \u001b[49m\u001b[43mtest\u001b[49m\n",
      "\u001b[36mFile \u001b[39m\u001b[32md:\\College\\Sem 5\\ML project\\myenv\\Lib\\site-packages\\sklearn\\model_selection\\_split.py:2342\u001b[39m, in \u001b[36mStratifiedShuffleSplit._iter_indices\u001b[39m\u001b[34m(self, X, y, groups)\u001b[39m\n\u001b[32m   2340\u001b[39m class_counts = np.bincount(y_indices)\n\u001b[32m   2341\u001b[39m \u001b[38;5;28;01mif\u001b[39;00m np.min(class_counts) < \u001b[32m2\u001b[39m:\n\u001b[32m-> \u001b[39m\u001b[32m2342\u001b[39m     \u001b[38;5;28;01mraise\u001b[39;00m \u001b[38;5;167;01mValueError\u001b[39;00m(\n\u001b[32m   2343\u001b[39m         \u001b[33m\"\u001b[39m\u001b[33mThe least populated class in y has only 1\u001b[39m\u001b[33m\"\u001b[39m\n\u001b[32m   2344\u001b[39m         \u001b[33m\"\u001b[39m\u001b[33m member, which is too few. The minimum\u001b[39m\u001b[33m\"\u001b[39m\n\u001b[32m   2345\u001b[39m         \u001b[33m\"\u001b[39m\u001b[33m number of groups for any class cannot\u001b[39m\u001b[33m\"\u001b[39m\n\u001b[32m   2346\u001b[39m         \u001b[33m\"\u001b[39m\u001b[33m be less than 2.\u001b[39m\u001b[33m\"\u001b[39m\n\u001b[32m   2347\u001b[39m     )\n\u001b[32m   2349\u001b[39m \u001b[38;5;28;01mif\u001b[39;00m n_train < n_classes:\n\u001b[32m   2350\u001b[39m     \u001b[38;5;28;01mraise\u001b[39;00m \u001b[38;5;167;01mValueError\u001b[39;00m(\n\u001b[32m   2351\u001b[39m         \u001b[33m\"\u001b[39m\u001b[33mThe train_size = \u001b[39m\u001b[38;5;132;01m%d\u001b[39;00m\u001b[33m should be greater or \u001b[39m\u001b[33m\"\u001b[39m\n\u001b[32m   2352\u001b[39m         \u001b[33m\"\u001b[39m\u001b[33mequal to the number of classes = \u001b[39m\u001b[38;5;132;01m%d\u001b[39;00m\u001b[33m\"\u001b[39m % (n_train, n_classes)\n\u001b[32m   2353\u001b[39m     )\n",
      "\u001b[31mValueError\u001b[39m: The least populated class in y has only 1 member, which is too few. The minimum number of groups for any class cannot be less than 2."
     ]
    }
   ],
   "source": [
    "# ------------------- 6. Prepare X and y -------------------\n",
    "X7 = df[TOP_7].values\n",
    "X14 = df[TOP_14].values\n",
    "y = df['character'].values  # Actual names\n",
    "# ------------------- 7. Train-test split -------------------\n",
    "X7_train, X7_val, y7_train, y7_val = train_test_split(\n",
    "X7, y, test_size=0.2, random_state=42, stratify=y)\n",
    "X14_train, X14_val, y14_train, y14_val = train_test_split(\n",
    "    X14, y, test_size=0.2, random_state=42, stratify=y)"
   ]
  },
  {
   "cell_type": "code",
   "execution_count": 1,
   "id": "5a6ecc5a",
   "metadata": {},
   "outputs": [
    {
     "name": "stdout",
     "output_type": "stream",
     "text": [
      "2.3.4\n"
     ]
    }
   ],
   "source": [
    "import numpy as np\n",
    "print(np.__version__)"
   ]
  },
  {
   "cell_type": "code",
   "execution_count": null,
   "id": "ba71ba01",
   "metadata": {},
   "outputs": [],
   "source": []
  }
 ],
 "metadata": {
  "kernelspec": {
   "display_name": "myenv",
   "language": "python",
   "name": "python3"
  },
  "language_info": {
   "codemirror_mode": {
    "name": "ipython",
    "version": 3
   },
   "file_extension": ".py",
   "mimetype": "text/x-python",
   "name": "python",
   "nbconvert_exporter": "python",
   "pygments_lexer": "ipython3",
   "version": "3.12.10"
  }
 },
 "nbformat": 4,
 "nbformat_minor": 5
}
